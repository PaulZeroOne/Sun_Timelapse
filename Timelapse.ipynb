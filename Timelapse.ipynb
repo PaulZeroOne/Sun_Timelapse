{
 "cells": [
  {
   "cell_type": "markdown",
   "id": "fea1283d",
   "metadata": {},
   "source": [
    "<h1>Final Project\n",
    "<h6> Team 2"
   ]
  },
  {
   "cell_type": "markdown",
   "id": "c31791f5",
   "metadata": {},
   "source": [
    "Hi. \n",
    "<br>Below you'll find a code that will create a <b>Timelapse of the Sun</b>.\n",
    "<br>Just set the date and choose the telescope and the resolution."
   ]
  },
  {
   "cell_type": "markdown",
   "id": "6b39d0a7",
   "metadata": {},
   "source": [
    "<h3> Input Parameters"
   ]
  },
  {
   "cell_type": "code",
   "execution_count": 1,
   "id": "bd200432",
   "metadata": {},
   "outputs": [
    {
     "name": "stdout",
     "output_type": "stream",
     "text": [
      "Enter the start date(YYYY/MM/DD):2020/10/15\n"
     ]
    }
   ],
   "source": [
    "#set the date\n",
    "date = input('Enter the start date(YYYY/MM/DD):')\n",
    "y, m, d = map(int, date.split('/'))"
   ]
  },
  {
   "cell_type": "code",
   "execution_count": 2,
   "id": "175cc259",
   "metadata": {},
   "outputs": [
    {
     "name": "stdout",
     "output_type": "stream",
     "text": [
      "AIA 171(code:0171)\n",
      "AIA 193(code:0193)\n",
      "AIA 304(code:0304)\n",
      "AIA 211(code:0211)\n",
      "AIA 131(code:0131)\n",
      "AIA 335(code:0335)\n",
      "AIA 094(code:0094)\n",
      "AIA 1600(code:1600)\n",
      "AIA 1700(code:1700)\n",
      "HMI Magnetogram (code:hmib)\n",
      "HMI Colorized Magnetogram (code:hmibc)\n",
      "HMI Intensitygram (code:hmii)\n",
      "HMI Intensitygram (code:hmiic)\n",
      "HMI Intensitygram Flat (code:hmiif)\n",
      "HMI Dopplergram (code:hmid)\n",
      "AIA Composite (code:211193171)\n",
      "AIA Composite (code:304211171)\n",
      "Choose a telescope code:0171\n"
     ]
    }
   ],
   "source": [
    "#choose the telescope\n",
    "telescopes = [\"AIA 171(code:0171)\",\"AIA 193(code:0193)\",\"AIA 304(code:0304)\",\"AIA 211(code:0211)\",\"AIA 131(code:0131)\",\"AIA 335(code:0335)\",\"AIA 094(code:0094)\",\"AIA 1600(code:1600)\",\"AIA 1700(code:1700)\",\"HMI Magnetogram (code:hmib)\",\"HMI Colorized Magnetogram (code:hmibc)\",\"HMI Intensitygram (code:hmii)\",\"HMI Intensitygram (code:hmiic)\",\"HMI Intensitygram Flat (code:hmiif)\",\"HMI Dopplergram (code:hmid)\",\"AIA Composite (code:211193171)\",\"AIA Composite (code:304211171)\"]\n",
    "print(*telescopes, sep = \"\\n\")\n",
    "tele = input('Choose a telescope code:')"
   ]
  },
  {
   "cell_type": "code",
   "execution_count": 3,
   "id": "fcac8651",
   "metadata": {
    "scrolled": true
   },
   "outputs": [
    {
     "name": "stdout",
     "output_type": "stream",
     "text": [
      "256\n",
      "512\n",
      "1024\n",
      "2048\n",
      "3072\n",
      "4096\n",
      "Choose a resolution:512\n"
     ]
    }
   ],
   "source": [
    "#choose the resolution\n",
    "resolution = [256, 512, 1024, 2048, 3072, 4096]\n",
    "print(*resolution, sep = \"\\n\")\n",
    "res = input('Choose a resolution:')"
   ]
  },
  {
   "cell_type": "markdown",
   "id": "47c5bfd4",
   "metadata": {},
   "source": [
    "<h3> Automating Website Browsing"
   ]
  },
  {
   "cell_type": "code",
   "execution_count": 4,
   "id": "220f4bfa",
   "metadata": {},
   "outputs": [
    {
     "name": "stdout",
     "output_type": "stream",
     "text": [
      "The website for your selected date: https://sdo.gsfc.nasa.gov/assets/img/browse/2020/10/15/\n"
     ]
    }
   ],
   "source": [
    "from urllib.request import urlopen\n",
    "from bs4 import BeautifulSoup\n",
    "import requests\n",
    "\n",
    "url = \"https://sdo.gsfc.nasa.gov/assets/img/browse/\"\n",
    "html = urlopen(url)\n",
    "soup = BeautifulSoup(html,'html')\n",
    "y = str(y)\n",
    "for link in soup.find_all('a'):\n",
    "    if link.get('href') != None and y in link.get('href'):\n",
    "        a = link.get('href')\n",
    "\n",
    "url1 = url + a\n",
    "html1 = urlopen(url1)\n",
    "soup1 = BeautifulSoup(html1,'html')\n",
    "m = str(m)\n",
    "for link in soup1.find_all('a'):\n",
    "    if link.get('href') != None and m in link.get('href'):\n",
    "        b = link.get('href')\n",
    "\n",
    "url2 = url1 + b\n",
    "html2 = urlopen(url2)\n",
    "soup2 = BeautifulSoup(html2,'html')\n",
    "d = str(d)\n",
    "for link in soup2.find_all('a'):\n",
    "    if link.get('href') != None and d in link.get('href'):\n",
    "        c = link.get('href')\n",
    "         \n",
    "url3 = url2 + c\n",
    "print(\"The website for your selected date:\", url3)"
   ]
  },
  {
   "cell_type": "markdown",
   "id": "f2ff6970",
   "metadata": {},
   "source": [
    "<h3> Downloading Multiple Images"
   ]
  },
  {
   "cell_type": "code",
   "execution_count": 5,
   "id": "69fc344f",
   "metadata": {},
   "outputs": [
    {
     "name": "stdout",
     "output_type": "stream",
     "text": [
      "Requirement already satisfied: tldextract in d:\\anaconda3\\lib\\site-packages (3.1.0)\n",
      "Requirement already satisfied: requests-file>=1.4 in d:\\anaconda3\\lib\\site-packages (from tldextract) (1.5.1)\n",
      "Requirement already satisfied: idna in d:\\anaconda3\\lib\\site-packages (from tldextract) (2.10)\n",
      "Requirement already satisfied: filelock>=3.0.8 in d:\\anaconda3\\lib\\site-packages (from tldextract) (3.0.12)\n",
      "Requirement already satisfied: requests>=2.1.0 in d:\\anaconda3\\lib\\site-packages (from tldextract) (2.25.1)\n",
      "Requirement already satisfied: certifi>=2017.4.17 in d:\\anaconda3\\lib\\site-packages (from requests>=2.1.0->tldextract) (2020.12.5)\n",
      "Requirement already satisfied: urllib3<1.27,>=1.21.1 in d:\\anaconda3\\lib\\site-packages (from requests>=2.1.0->tldextract) (1.26.4)\n",
      "Requirement already satisfied: chardet<5,>=3.0.2 in d:\\anaconda3\\lib\\site-packages (from requests>=2.1.0->tldextract) (4.0.0)\n",
      "Requirement already satisfied: six in d:\\anaconda3\\lib\\site-packages (from requests-file>=1.4->tldextract) (1.15.0)\n",
      "Note: you may need to restart the kernel to use updated packages.\n"
     ]
    }
   ],
   "source": [
    "pip install tldextract"
   ]
  },
  {
   "cell_type": "code",
   "execution_count": 6,
   "id": "082dd893",
   "metadata": {},
   "outputs": [],
   "source": [
    "import requests\n",
    "import os\n",
    "import subprocess\n",
    "import urllib.request\n",
    "from bs4 import BeautifulSoup\n",
    "import tldextract\n",
    "\n",
    "html3 = urlopen(url3)\n",
    "soup3 = BeautifulSoup(html3,'html')\n",
    "title = str(res)+'_'+str(tele)\n",
    "#creating an array of urls\n",
    "img_url = []\n",
    "for link in soup3.find_all('a'):\n",
    "    if link.get('href') != None and title in link.get('href'):\n",
    "        lnk = str(link.get('href'))\n",
    "        urls = url3 + lnk\n",
    "        img_url.append(urls)\n",
    "        \n",
    "#downloading the images\n",
    "broken_images = []\n",
    "for img in img_url:\n",
    "    file_name = img.split('/')[-1]\n",
    "    r = requests.get(img, stream=True)\n",
    "    # We can check that the status code is 200 before doing anything else:\n",
    "    if r.status_code == 200:\n",
    "        with open(file_name, 'wb') as f:\n",
    "            for chunk in r:\n",
    "                f.write(chunk)\n",
    "    else:\n",
    "        # We will write all of the images back to the broken_images list:\n",
    "        broken_images.append(img)"
   ]
  },
  {
   "cell_type": "markdown",
   "id": "ffe831da",
   "metadata": {},
   "source": [
    "<h3> Converting JPGs to GIF"
   ]
  },
  {
   "cell_type": "code",
   "execution_count": 7,
   "id": "b100615f",
   "metadata": {},
   "outputs": [],
   "source": [
    "from astropy.visualization import astropy_mpl_style\n",
    "import matplotlib.pyplot as plt\n",
    "from PIL import Image\n",
    "import glob\n",
    " \n",
    "# Create the frames\n",
    "frames = []\n",
    "imgs = glob.glob(\"*.jpg\")\n",
    "for i in imgs:\n",
    "    new_frame = Image.open(i)\n",
    "    frames.append(new_frame)\n",
    "\n",
    "#Save into a GIF file that loops forever\n",
    "frames[0].save('sun_timelapse.gif', format='GIF',append_images=frames[1:],save_all=True,duration=150, loop=0)\n"
   ]
  },
  {
   "cell_type": "code",
   "execution_count": 8,
   "id": "6495654f",
   "metadata": {},
   "outputs": [
    {
     "data": {
      "text/html": [
       "<img src=\"sun_timelapse.gif\"/>"
      ],
      "text/plain": [
       "<IPython.core.display.Image object>"
      ]
     },
     "execution_count": 8,
     "metadata": {},
     "output_type": "execute_result"
    }
   ],
   "source": [
    "from IPython.display import Image\n",
    "Image(url='sun_timelapse.gif')  "
   ]
  },
  {
   "cell_type": "markdown",
   "id": "afb4cf41",
   "metadata": {},
   "source": [
    "Viola! The gif is now also saved in your Pc. \n",
    "<br> Or just search for <b>sun_timelapse.gif</b> in your directory.\n",
    "<br><h1>THANK YOU! "
   ]
  },
  {
   "cell_type": "code",
   "execution_count": null,
   "id": "def88e65",
   "metadata": {},
   "outputs": [],
   "source": []
  }
 ],
 "metadata": {
  "kernelspec": {
   "display_name": "Python 3",
   "language": "python",
   "name": "python3"
  },
  "language_info": {
   "codemirror_mode": {
    "name": "ipython",
    "version": 3
   },
   "file_extension": ".py",
   "mimetype": "text/x-python",
   "name": "python",
   "nbconvert_exporter": "python",
   "pygments_lexer": "ipython3",
   "version": "3.8.8"
  }
 },
 "nbformat": 4,
 "nbformat_minor": 5
}
